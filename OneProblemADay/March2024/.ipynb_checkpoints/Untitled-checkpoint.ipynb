{
 "cells": [
  {
   "cell_type": "code",
   "execution_count": 1,
   "id": "165a311c-5512-4e32-874f-3a3b865c483b",
   "metadata": {},
   "outputs": [
    {
     "data": {
      "text/plain": [
       "dict_keys([1, 2, 3])"
      ]
     },
     "execution_count": 1,
     "metadata": {},
     "output_type": "execute_result"
    }
   ],
   "source": [
    "newdict = {1:0, 2:0, 3:0}\n",
    "newdict.keys()"
   ]
  },
  {
   "cell_type": "raw",
   "id": "56377ab9-8ee4-4296-a42b-b20505239d93",
   "metadata": {},
   "source": [
    "A simple answer would be use list command"
   ]
  },
  {
   "cell_type": "code",
   "execution_count": 2,
   "id": "16648013-da5f-4bca-9ef7-4e5977b78615",
   "metadata": {},
   "outputs": [
    {
     "data": {
      "text/plain": [
       "[1, 2, 3]"
      ]
     },
     "execution_count": 2,
     "metadata": {},
     "output_type": "execute_result"
    }
   ],
   "source": [
    "list(newdict.keys())"
   ]
  },
  {
   "cell_type": "code",
   "execution_count": 3,
   "id": "aa04a169-ce34-4bfa-b47b-727cd7042675",
   "metadata": {},
   "outputs": [
    {
     "name": "stdout",
     "output_type": "stream",
     "text": [
      "1\n",
      "2\n",
      "3\n"
     ]
    }
   ],
   "source": [
    "for key in newdict.keys():\n",
    "    print(key)"
   ]
  },
  {
   "cell_type": "raw",
   "id": "4bef3560-7837-480a-b601-1399260eff6c",
   "metadata": {},
   "source": [
    "Here comes the trick, buckle up. On the other hand, you should ask yourself whether or not it matters. It is Pythonic to assume duck typing -- if it looks like a duck and it quacks like a duck, it is a duck. The dict_keys object can be iterated over just like a list. For instance:"
   ]
  },
  {
   "cell_type": "code",
   "execution_count": 8,
   "id": "35d31080-0c1d-4281-8065-a9ec2b55041e",
   "metadata": {},
   "outputs": [
    {
     "data": {
      "text/plain": [
       "[1, 2, 3]"
      ]
     },
     "execution_count": 8,
     "metadata": {},
     "output_type": "execute_result"
    }
   ],
   "source": [
    "[*newdict]"
   ]
  },
  {
   "cell_type": "raw",
   "id": "15ef3754-e806-4e52-80f6-e7199b6a5aa6",
   "metadata": {},
   "source": [
    "Though equivalent to list(newdict) with the difference that it's faster (at least for small dictionaries) because no function call is actually performed:"
   ]
  },
  {
   "cell_type": "code",
   "execution_count": 10,
   "id": "1f0bf9c8-50a5-4ccf-8133-7561d6cccfca",
   "metadata": {},
   "outputs": [
    {
     "data": {
      "text/plain": [
       "{1, 2, 3}"
      ]
     },
     "execution_count": 10,
     "metadata": {},
     "output_type": "execute_result"
    }
   ],
   "source": [
    "{*newdict}"
   ]
  },
  {
   "cell_type": "code",
   "execution_count": null,
   "id": "c2863e49-db4d-4e94-9b5e-236f5b3b4610",
   "metadata": {},
   "outputs": [],
   "source": []
  }
 ],
 "metadata": {
  "kernelspec": {
   "display_name": "Python 3 (ipykernel)",
   "language": "python",
   "name": "python3"
  },
  "language_info": {
   "codemirror_mode": {
    "name": "ipython",
    "version": 3
   },
   "file_extension": ".py",
   "mimetype": "text/x-python",
   "name": "python",
   "nbconvert_exporter": "python",
   "pygments_lexer": "ipython3",
   "version": "3.9.18"
  }
 },
 "nbformat": 4,
 "nbformat_minor": 5
}
