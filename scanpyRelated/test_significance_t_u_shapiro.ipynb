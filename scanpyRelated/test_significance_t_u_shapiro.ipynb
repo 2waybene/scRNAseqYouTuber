{
 "cells": [
  {
   "cell_type": "markdown",
   "id": "a5975753",
   "metadata": {},
   "source": [
    "## Three steps that will cover the majority of cases:\n",
    "\n",
    "### 1) are my data normally distributed? shapiro test\n",
    "### 2) if yes: t-test\n",
    "### 3) if no: u-test"
   ]
  },
  {
   "cell_type": "code",
   "execution_count": 1,
   "id": "3fe379a1",
   "metadata": {},
   "outputs": [],
   "source": [
    "from scipy import stats #the only import you actually need for this\n",
    "import numpy as np\n",
    "import seaborn as sns\n",
    "import pandas as pd\n",
    "import matplotlib.pyplot as plt\n",
    "%config InlineBackend.print_figure_kwargs={'facecolor' : \"w\"}"
   ]
  },
  {
   "cell_type": "code",
   "execution_count": null,
   "id": "74cbab56",
   "metadata": {},
   "outputs": [],
   "source": []
  },
  {
   "cell_type": "code",
   "execution_count": null,
   "id": "24acca47",
   "metadata": {},
   "outputs": [],
   "source": []
  },
  {
   "cell_type": "code",
   "execution_count": 2,
   "id": "06d7bc02",
   "metadata": {},
   "outputs": [
    {
     "data": {
      "image/png": "[encoded data removed]",
      "text/plain": [
       "<Figure size 432x288 with 1 Axes>"
      ]
     },
     "metadata": {
      "needs_background": "light"
     },
     "output_type": "display_data"
    }
   ],
   "source": [
    "#generate normally distributed values\n",
    "group_a = np.random.normal(4, 1,  5) #mu, sigma, n\n",
    "group_b = np.random.normal(5, 1,  5) #mu, sigma, n\n",
    "df = pd.DataFrame(np.concatenate((np.vstack((group_a, np.array(['a']*len(group_a)))).T,\n",
    "                                  np.vstack((group_b, np.array(['b']*len(group_a)))).T)), columns = ['value', 'group'])\n",
    "df['value'] = df['value'].astype('float')\n",
    "ax = sns.swarmplot(data = df, x = 'group', y = 'value', s = 8)\n",
    "plt.ylim(bottom = 0, top = df.value.max() + 2)\n",
    "plt.show()"
   ]
  },
  {
   "cell_type": "code",
   "execution_count": 3,
   "id": "0db544c9",
   "metadata": {},
   "outputs": [
    {
     "data": {
      "text/plain": [
       "Ttest_indResult(statistic=-2.141696254533902, pvalue=0.0646055063603198)"
      ]
     },
     "execution_count": 3,
     "metadata": {},
     "output_type": "execute_result"
    }
   ],
   "source": [
    "stats.ttest_ind(group_a, group_b)"
   ]
  },
  {
   "cell_type": "code",
   "execution_count": 4,
   "id": "52f5d905",
   "metadata": {},
   "outputs": [
    {
     "data": {
      "text/plain": [
       "Ttest_indResult(statistic=-4.273273869671518, pvalue=0.0016285682897101618)"
      ]
     },
     "execution_count": 4,
     "metadata": {},
     "output_type": "execute_result"
    }
   ],
   "source": [
    "stats.ttest_ind([1,3,4,3,2], [4,5,6,6,5,4,5]) #input can just be list of numbers"
   ]
  },
  {
   "cell_type": "code",
   "execution_count": 5,
   "id": "d23231ee",
   "metadata": {},
   "outputs": [
    {
     "data": {
      "text/plain": [
       "ShapiroResult(statistic=0.9919436573982239, pvalue=0.9807631969451904)"
      ]
     },
     "execution_count": 5,
     "metadata": {},
     "output_type": "execute_result"
    }
   ],
   "source": [
    "#shapiro test for normal distribution\n",
    "stats.shapiro(np.random.normal(10, 1,  50) ) #p value > 0.05 if it is normally distributed"
   ]
  },
  {
   "cell_type": "code",
   "execution_count": 6,
   "id": "90f0bc0d",
   "metadata": {},
   "outputs": [
    {
     "data": {
      "image/png": "[encoded data removed]",
      "text/plain": [
       "<Figure size 432x288 with 1 Axes>"
      ]
     },
     "metadata": {
      "needs_background": "light"
     },
     "output_type": "display_data"
    }
   ],
   "source": [
    "#generate random distribution of numbers, i.e., not normally distributed\n",
    "group_a = np.random.uniform(low=9, high=17, size=(20,))\n",
    "group_b = np.random.uniform(low=7, high=15, size=(20,))\n",
    "df = pd.DataFrame(np.concatenate((np.vstack((group_a, np.array(['a']*len(group_a)))).T,\n",
    "                                  np.vstack((group_b, np.array(['b']*len(group_a)))).T)), columns = ['value', 'group'])\n",
    "df['value'] = df['value'].astype('float')\n",
    "ax = sns.swarmplot(data = df, x = 'group', y = 'value')\n",
    "plt.ylim(bottom = 0, top = df.value.max() + 2)\n",
    "plt.show()"
   ]
  },
  {
   "cell_type": "code",
   "execution_count": 7,
   "id": "e41b85da",
   "metadata": {},
   "outputs": [
    {
     "data": {
      "text/plain": [
       "ShapiroResult(statistic=0.8799253702163696, pvalue=0.017637841403484344)"
      ]
     },
     "execution_count": 7,
     "metadata": {},
     "output_type": "execute_result"
    }
   ],
   "source": [
    "stats.shapiro(group_a)"
   ]
  },
  {
   "cell_type": "code",
   "execution_count": 8,
   "id": "212ccb52",
   "metadata": {},
   "outputs": [
    {
     "data": {
      "text/plain": [
       "ShapiroResult(statistic=0.9161470532417297, pvalue=0.08355055004358292)"
      ]
     },
     "execution_count": 8,
     "metadata": {},
     "output_type": "execute_result"
    }
   ],
   "source": [
    "stats.shapiro(group_b)"
   ]
  },
  {
   "cell_type": "code",
   "execution_count": 9,
   "id": "000c02b4",
   "metadata": {},
   "outputs": [
    {
     "data": {
      "text/plain": [
       "MannwhitneyuResult(statistic=267.0, pvalue=0.0720454304673439)"
      ]
     },
     "execution_count": 9,
     "metadata": {},
     "output_type": "execute_result"
    }
   ],
   "source": [
    "stats.mannwhitneyu(group_a, group_b)"
   ]
  },
  {
   "cell_type": "code",
   "execution_count": 10,
   "id": "f40c3e62",
   "metadata": {},
   "outputs": [
    {
     "data": {
      "text/plain": [
       "ShapiroResult(statistic=0.8577129244804382, pvalue=0.14439702033996582)"
      ]
     },
     "execution_count": 10,
     "metadata": {},
     "output_type": "execute_result"
    }
   ],
   "source": [
    "stats.shapiro([4,5,6,6,5,4,5]) #example from value list"
   ]
  },
  {
   "cell_type": "code",
   "execution_count": 11,
   "id": "9386650d",
   "metadata": {},
   "outputs": [
    {
     "data": {
      "text/plain": [
       "MannwhitneyuResult(statistic=1.0, pvalue=0.008167958654692957)"
      ]
     },
     "execution_count": 11,
     "metadata": {},
     "output_type": "execute_result"
    }
   ],
   "source": [
    "stats.mannwhitneyu([1,3,4,3,2], [4,5,6,6,5,4,5]) #example from value list"
   ]
  },
  {
   "cell_type": "code",
   "execution_count": null,
   "id": "4aec45f5",
   "metadata": {},
   "outputs": [],
   "source": []
  },
  {
   "cell_type": "code",
   "execution_count": 12,
   "id": "f558a08c",
   "metadata": {},
   "outputs": [],
   "source": [
    "#example function that tests distribution then picks test accordingly\n",
    "def test_sig(x, y):\n",
    "    if stats.shapiro(x).pvalue >= 0.05 and stats.shapiro(y).pvalue >= 0.05: #if they are normally distriuted\n",
    "        print(\"t-test\")\n",
    "        return stats.ttest_ind(x,y)\n",
    "    else:\n",
    "        print(\"mann-whitney\")\n",
    "        return stats.mannwhitneyu(x, y)"
   ]
  },
  {
   "cell_type": "code",
   "execution_count": 13,
   "id": "752d96d8",
   "metadata": {},
   "outputs": [
    {
     "name": "stdout",
     "output_type": "stream",
     "text": [
      "t-test\n"
     ]
    },
    {
     "data": {
      "text/plain": [
       "Ttest_indResult(statistic=-10.808567545708417, pvalue=8.002021519806372e-18)"
      ]
     },
     "execution_count": 13,
     "metadata": {},
     "output_type": "execute_result"
    }
   ],
   "source": [
    "test_sig(np.random.normal(10, 1,  50), np.random.normal(13, 2,  40))"
   ]
  },
  {
   "cell_type": "code",
   "execution_count": 14,
   "id": "4540acbf",
   "metadata": {},
   "outputs": [
    {
     "name": "stdout",
     "output_type": "stream",
     "text": [
      "mann-whitney\n"
     ]
    },
    {
     "data": {
      "text/plain": [
       "MannwhitneyuResult(statistic=7075.0, pvalue=4.0031006370913845e-07)"
      ]
     },
     "execution_count": 14,
     "metadata": {},
     "output_type": "execute_result"
    }
   ],
   "source": [
    "test_sig(np.random.random(100)*1.4,np.random.random(100))"
   ]
  },
  {
   "cell_type": "code",
   "execution_count": null,
   "id": "5e348816",
   "metadata": {},
   "outputs": [],
   "source": []
  }
 ],
 "metadata": {
  "kernelspec": {
   "display_name": "Python 3 (ipykernel)",
   "language": "python",
   "name": "python3"
  },
  "language_info": {
   "codemirror_mode": {
    "name": "ipython",
    "version": 3
   },
   "file_extension": ".py",
   "mimetype": "text/x-python",
   "name": "python",
   "nbconvert_exporter": "python",
   "pygments_lexer": "ipython3",
   "version": "3.10.1"
  }
 },
 "nbformat": 4,
 "nbformat_minor": 5
}
