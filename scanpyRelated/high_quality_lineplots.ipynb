{
 "cells": [
  {
   "cell_type": "code",
   "execution_count": 16,
   "id": "2dde0ea3",
   "metadata": {},
   "outputs": [],
   "source": [
    "import pandas as pd\n",
    "import seaborn as sns\n",
    "import matplotlib.pyplot as plt\n",
    "from scipy import stats"
   ]
  },
  {
   "cell_type": "code",
   "execution_count": 21,
   "id": "a6de9c7a",
   "metadata": {},
   "outputs": [
    {
     "data": {
      "text/html": [
       "<div>\n",
       "<style scoped>\n",
       "    .dataframe tbody tr th:only-of-type {\n",
       "        vertical-align: middle;\n",
       "    }\n",
       "\n",
       "    .dataframe tbody tr th {\n",
       "        vertical-align: top;\n",
       "    }\n",
       "\n",
       "    .dataframe thead th {\n",
       "        text-align: right;\n",
       "    }\n",
       "</style>\n",
       "<table border=\"1\" class=\"dataframe\">\n",
       "  <thead>\n",
       "    <tr style=\"text-align: right;\">\n",
       "      <th></th>\n",
       "      <th>Tumor size</th>\n",
       "      <th>Week</th>\n",
       "      <th>Treatment</th>\n",
       "    </tr>\n",
       "  </thead>\n",
       "  <tbody>\n",
       "    <tr>\n",
       "      <th>0</th>\n",
       "      <td>2</td>\n",
       "      <td>1</td>\n",
       "      <td>Control</td>\n",
       "    </tr>\n",
       "    <tr>\n",
       "      <th>1</th>\n",
       "      <td>2</td>\n",
       "      <td>1</td>\n",
       "      <td>Control</td>\n",
       "    </tr>\n",
       "    <tr>\n",
       "      <th>2</th>\n",
       "      <td>3</td>\n",
       "      <td>1</td>\n",
       "      <td>Control</td>\n",
       "    </tr>\n",
       "    <tr>\n",
       "      <th>3</th>\n",
       "      <td>3</td>\n",
       "      <td>2</td>\n",
       "      <td>Control</td>\n",
       "    </tr>\n",
       "    <tr>\n",
       "      <th>4</th>\n",
       "      <td>4</td>\n",
       "      <td>2</td>\n",
       "      <td>Control</td>\n",
       "    </tr>\n",
       "  </tbody>\n",
       "</table>\n",
       "</div>"
      ],
      "text/plain": [
       "   Tumor size  Week Treatment\n",
       "0           2     1   Control\n",
       "1           2     1   Control\n",
       "2           3     1   Control\n",
       "3           3     2   Control\n",
       "4           4     2   Control"
      ]
     },
     "execution_count": 21,
     "metadata": {},
     "output_type": "execute_result"
    }
   ],
   "source": [
    "ctr = [2,2,3,3,4,5,5,6,4,8,6,6,9,11,12,12,15,16,20,25,27]\n",
    "drug = [2,3,2,3,4,3,3,4,5,5,6,6,8,7,6,7,8,11,10,11,15]\n",
    "\n",
    "week = []\n",
    "for x in range(1,8): #weeks 1-7\n",
    "    week += [x,x,x]\n",
    "week += week\n",
    "\n",
    "vals = ctr + drug\n",
    "\n",
    "labels = ['Control']*21 + ['Drug_z']*21\n",
    "\n",
    "df = pd.DataFrame(zip(vals, week, labels), columns = ['Tumor size', 'Week', 'Treatment'])\n",
    "df.head()"
   ]
  },
  {
   "cell_type": "code",
   "execution_count": 50,
   "id": "51dfdc8f",
   "metadata": {},
   "outputs": [
    {
     "data": {
      "image/png": "[encoded data removed]",
      "text/plain": [
       "<Figure size 288x288 with 1 Axes>"
      ]
     },
     "metadata": {
      "needs_background": "light"
     },
     "output_type": "display_data"
    }
   ],
   "source": [
    "plt.figure(figsize = (4,4))\n",
    "\n",
    "err_kws = {'capsize': 5, 'capthick': 2, 'elinewidth':2}\n",
    "\n",
    "ax = sns.lineplot(data = df, x = 'Week', y = 'Tumor size', hue = 'Treatment', lw = 2.5,\n",
    "                 style = 'Treatment', markers = ['o', '^'], dashes = False, markersize = 8 ,\n",
    "                 err_style = 'bars', err_kws = err_kws, palette = ['gray', 'firebrick'])\n",
    "\n",
    "\n",
    "for axis in ['bottom', 'left']:\n",
    "    ax.spines[axis].set_linewidth(2.5)\n",
    "    ax.spines[axis].set_color('0.2')\n",
    "\n",
    "ax.spines['top'].set_visible(False)\n",
    "ax.spines['right'].set_visible(False)\n",
    "\n",
    "ax.tick_params(width = 2.5, color = '0.2')\n",
    "\n",
    "plt.xticks(size = 14, weight = 'bold', color = '0.2')\n",
    "plt.yticks(size = 14, weight = 'bold', color = '0.2')\n",
    "\n",
    "ax.set_xlabel(ax.get_xlabel(), fontsize = 14, weight = 'bold', color = '0.2')\n",
    "ax.set_ylabel(ax.get_ylabel(), fontsize = 14, weight = 'bold', color = '0.2')\n",
    "\n",
    "plt.legend(frameon = False, prop = {'weight':'bold', 'size':14}, labelcolor = '0.2')\n",
    "\n",
    "\n",
    "for week in range(1,8):\n",
    "    z = df[(df.Week == week) & (df.Treatment == 'Drug_z')]['Tumor size'].values\n",
    "    c = df[(df.Week == week) & (df.Treatment == 'Control')]['Tumor size'].values\n",
    "    \n",
    "    p = stats.ttest_ind(z,c).pvalue\n",
    "    \n",
    "    max_v = df[df.Week == week]['Tumor size'].max()\n",
    "    \n",
    "    if p < 0.05:\n",
    "        plt.text(x = week- 0.05, y = max_v - 0.5, s = \"*\",\n",
    "                 fontsize = 20, ha = 'center', va = 'bottom', color = '0.2', weight = 'bold')\n",
    "    else:\n",
    "        plt.text(x = week, y = max_v, s = \"ns\", fontsize = 12, ha = 'center', va = 'bottom', color = '0.2')\n",
    "\n",
    "\n",
    "\n",
    "\n",
    "plt.savefig('line_test.png', bbox_inches = 'tight', dpi = 250, facecolor = ax.get_facecolor())"
   ]
  },
  {
   "cell_type": "code",
   "execution_count": 45,
   "id": "212202ce",
   "metadata": {},
   "outputs": [],
   "source": [
    "for week in range(1,8):\n",
    "    z = df[(df.Week == week) & (df.Treatment == 'Drug_z')]['Tumor size'].values\n",
    "    c = df[(df.Week == week) & (df.Treatment == 'Control')]['Tumor size'].values\n",
    "    \n",
    "    p = stats.ttest_ind(z,c).pvalue\n",
    "    \n",
    "    max_v = df[df.Week == week]['Tumor size'].max()\n",
    "    \n",
    "    if p < 0.05:\n",
    "        plt.text(x = week, y = max_v, s = \"*\", fontsize = 20, ha = 'center', va = 'bottom')\n",
    "    else:\n",
    "        plt.text(x = week, y = max_v, s = \"ns\", fontsize = 14, ha = 'center', va = 'bottom')"
   ]
  },
  {
   "cell_type": "code",
   "execution_count": 46,
   "id": "174fc492",
   "metadata": {},
   "outputs": [
    {
     "data": {
      "text/plain": [
       "Ttest_indResult(statistic=-4.6475800154489, pvalue=0.009678951648207292)"
      ]
     },
     "execution_count": 46,
     "metadata": {},
     "output_type": "execute_result"
    }
   ],
   "source": [
    "s"
   ]
  },
  {
   "cell_type": "code",
   "execution_count": null,
   "id": "f87879ca",
   "metadata": {},
   "outputs": [],
   "source": []
  }
 ],
 "metadata": {
  "kernelspec": {
   "display_name": "Python 3 (ipykernel)",
   "language": "python",
   "name": "python3"
  },
  "language_info": {
   "codemirror_mode": {
    "name": "ipython",
    "version": 3
   },
   "file_extension": ".py",
   "mimetype": "text/x-python",
   "name": "python",
   "nbconvert_exporter": "python",
   "pygments_lexer": "ipython3",
   "version": "3.10.1"
  }
 },
 "nbformat": 4,
 "nbformat_minor": 5
}
