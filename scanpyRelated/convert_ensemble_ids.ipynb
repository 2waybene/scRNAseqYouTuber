{
 "cells": [
  {
   "cell_type": "code",
   "execution_count": 26,
   "id": "d89a4260",
   "metadata": {},
   "outputs": [],
   "source": [
    "####complete function, may need slight modification based on your gtf format####\n",
    "\n",
    "def get_ens_dict(file_path):\n",
    "    with open(file_path) as f:\n",
    "        gtf = list(f)\n",
    "\n",
    "    gtf = [x for x in gtf if not x.startswith('#')]\n",
    "    gtf = [x for x in gtf if 'gene_id \"' in x and 'gene_name \"' in x]\n",
    "    if len(gtf) == 0:\n",
    "        print('you need to change gene_id \" and gene_name \" formats')\n",
    "    \n",
    "    gtf = list(map(lambda x: (x.split('gene_id \"')[1].split('\"')[0], x.split('gene_name \"')[1].split('\"')[0]), gtf))\n",
    "    gtf = dict(set(gtf))\n",
    "    return gtf\n",
    "\n",
    "gtf_dict = get_ens_dict('Homo_sapiens.GRCh38.105.gtf') #replace with your file path"
   ]
  },
  {
   "cell_type": "code",
   "execution_count": 1,
   "id": "771ccf9b",
   "metadata": {},
   "outputs": [
    {
     "name": "stdout",
     "output_type": "stream",
     "text": [
      "count_table.csv    Homo_sapiens.GRCh38.105.gtf\ttutorial.Rmd\t Untitled.ipynb\r\n",
      "deseq_results.csv  tutorial.nb.html\t\tUntitled1.ipynb\r\n"
     ]
    }
   ],
   "source": [
    "!ls"
   ]
  },
  {
   "cell_type": "code",
   "execution_count": null,
   "id": "df6faf97",
   "metadata": {},
   "outputs": [],
   "source": [
    "#make sure to use the gtf you made your genome index with.. or find the same organism/version on ensemble\n",
    "#this gtf was taken straigh from ensemble"
   ]
  },
  {
   "cell_type": "code",
   "execution_count": 2,
   "id": "a4cfb217",
   "metadata": {},
   "outputs": [
    {
     "name": "stdout",
     "output_type": "stream",
     "text": [
      "#!genome-build GRCh38.p13\r\n",
      "#!genome-version GRCh38\r\n",
      "#!genome-date 2013-12\r\n",
      "#!genome-build-accession GCA_000001405.28\r\n",
      "#!genebuild-last-updated 2021-08\r\n",
      "1\tensembl_havana\tgene\t1211340\t1214153\t.\t-\t.\tgene_id \"ENSG00000186827\"; gene_version \"11\"; gene_name \"TNFRSF4\"; gene_source \"ensembl_havana\"; gene_biotype \"protein_coding\";\r\n",
      "1\tensembl_havana\ttranscript\t1211340\t1214153\t.\t-\t.\tgene_id \"ENSG00000186827\"; gene_version \"11\"; transcript_id \"ENST00000379236\"; transcript_version \"4\"; gene_name \"TNFRSF4\"; gene_source \"ensembl_havana\"; gene_biotype \"protein_coding\"; transcript_name \"TNFRSF4-201\"; transcript_source \"ensembl_havana\"; transcript_biotype \"protein_coding\"; tag \"CCDS\"; ccds_id \"CCDS11\"; tag \"basic\"; transcript_support_level \"1 (assigned to previous version 3)\";\r\n",
      "1\tensembl_havana\texon\t1213983\t1214153\t.\t-\t.\tgene_id \"ENSG00000186827\"; gene_version \"11\"; transcript_id \"ENST00000379236\"; transcript_version \"4\"; exon_number \"1\"; gene_name \"TNFRSF4\"; gene_source \"ensembl_havana\"; gene_biotype \"protein_coding\"; transcript_name \"TNFRSF4-201\"; transcript_source \"ensembl_havana\"; transcript_biotype \"protein_coding\"; tag \"CCDS\"; ccds_id \"CCDS11\"; exon_id \"ENSE00001832731\"; exon_version \"2\"; tag \"basic\"; transcript_support_level \"1 (assigned to previous version 3)\";\r\n"
     ]
    }
   ],
   "source": [
    "!head -n 8 Homo_sapiens.GRCh38.105.gtf"
   ]
  },
  {
   "cell_type": "code",
   "execution_count": 3,
   "id": "da275a2e",
   "metadata": {},
   "outputs": [],
   "source": [
    "with open('Homo_sapiens.GRCh38.105.gtf') as f:\n",
    "    gtf = list(f)\n",
    "    \n",
    "    \n",
    "gtf = [x for x in gtf if not x.startswith('#')]"
   ]
  },
  {
   "cell_type": "code",
   "execution_count": 4,
   "id": "5d4e89b6",
   "metadata": {},
   "outputs": [
    {
     "data": {
      "text/plain": [
       "3236571"
      ]
     },
     "execution_count": 4,
     "metadata": {},
     "output_type": "execute_result"
    }
   ],
   "source": [
    "len(gtf)"
   ]
  },
  {
   "cell_type": "code",
   "execution_count": 1,
   "id": "3389cca8",
   "metadata": {},
   "outputs": [],
   "source": [
    "#gtf"
   ]
  },
  {
   "cell_type": "code",
   "execution_count": 6,
   "id": "7ec553e4",
   "metadata": {},
   "outputs": [],
   "source": [
    "gtf = [x for x in gtf if 'gene_id \"' in x and 'gene_name \"' in x]"
   ]
  },
  {
   "cell_type": "code",
   "execution_count": 7,
   "id": "930911ac",
   "metadata": {},
   "outputs": [
    {
     "data": {
      "text/plain": [
       "3080284"
      ]
     },
     "execution_count": 7,
     "metadata": {},
     "output_type": "execute_result"
    }
   ],
   "source": [
    "len(gtf)"
   ]
  },
  {
   "cell_type": "code",
   "execution_count": 8,
   "id": "44aba8e0",
   "metadata": {},
   "outputs": [
    {
     "data": {
      "text/plain": [
       "'1\\tensembl_havana\\tgene\\t1211340\\t1214153\\t.\\t-\\t.\\tgene_id \"ENSG00000186827\"; gene_version \"11\"; gene_name \"TNFRSF4\"; gene_source \"ensembl_havana\"; gene_biotype \"protein_coding\";\\n'"
      ]
     },
     "execution_count": 8,
     "metadata": {},
     "output_type": "execute_result"
    }
   ],
   "source": [
    "gtf[0]"
   ]
  },
  {
   "cell_type": "code",
   "execution_count": null,
   "id": "ec75cd40",
   "metadata": {},
   "outputs": [],
   "source": [
    "#your gtf might have slightly differnt format. make sure to change the split strings accordingly\n",
    "#e.g., some gtf files do not have any quotes"
   ]
  },
  {
   "cell_type": "code",
   "execution_count": 9,
   "id": "4d4a0b72",
   "metadata": {},
   "outputs": [],
   "source": [
    "gtf = list(map(lambda x: (x.split('gene_id \"')[1].split('\"')[0], x.split('gene_name \"')[1].split('\"')[0]), gtf))"
   ]
  },
  {
   "cell_type": "code",
   "execution_count": 10,
   "id": "7353a4f0",
   "metadata": {},
   "outputs": [
    {
     "data": {
      "text/plain": [
       "[('ENSG00000186827', 'TNFRSF4'),\n",
       " ('ENSG00000186827', 'TNFRSF4'),\n",
       " ('ENSG00000186827', 'TNFRSF4'),\n",
       " ('ENSG00000186827', 'TNFRSF4'),\n",
       " ('ENSG00000186827', 'TNFRSF4')]"
      ]
     },
     "execution_count": 10,
     "metadata": {},
     "output_type": "execute_result"
    }
   ],
   "source": [
    "gtf[0:5]"
   ]
  },
  {
   "cell_type": "code",
   "execution_count": 12,
   "id": "bd41ea0a",
   "metadata": {},
   "outputs": [
    {
     "data": {
      "text/plain": [
       "3080284"
      ]
     },
     "execution_count": 12,
     "metadata": {},
     "output_type": "execute_result"
    }
   ],
   "source": [
    "len(gtf)"
   ]
  },
  {
   "cell_type": "code",
   "execution_count": 13,
   "id": "70208ae3",
   "metadata": {},
   "outputs": [],
   "source": [
    "gtf = list(set(gtf))"
   ]
  },
  {
   "cell_type": "code",
   "execution_count": 14,
   "id": "21a7f773",
   "metadata": {},
   "outputs": [
    {
     "data": {
      "text/plain": [
       "40839"
      ]
     },
     "execution_count": 14,
     "metadata": {},
     "output_type": "execute_result"
    }
   ],
   "source": [
    "len(gtf)"
   ]
  },
  {
   "cell_type": "code",
   "execution_count": 3,
   "id": "854662be",
   "metadata": {},
   "outputs": [],
   "source": [
    "#gtf"
   ]
  },
  {
   "cell_type": "code",
   "execution_count": 16,
   "id": "f27e7754",
   "metadata": {},
   "outputs": [
    {
     "name": "stdout",
     "output_type": "stream",
     "text": [
      "count_table.csv    Homo_sapiens.GRCh38.105.gtf\ttutorial.Rmd\t Untitled.ipynb\r\n",
      "deseq_results.csv  tutorial.nb.html\t\tUntitled1.ipynb\r\n"
     ]
    }
   ],
   "source": [
    "!ls"
   ]
  },
  {
   "cell_type": "code",
   "execution_count": 17,
   "id": "d4a934dc",
   "metadata": {},
   "outputs": [],
   "source": [
    "import pandas as pd"
   ]
  },
  {
   "cell_type": "code",
   "execution_count": 19,
   "id": "00c7f321",
   "metadata": {},
   "outputs": [
    {
     "data": {
      "text/html": [
       "<div>\n",
       "<style scoped>\n",
       "    .dataframe tbody tr th:only-of-type {\n",
       "        vertical-align: middle;\n",
       "    }\n",
       "\n",
       "    .dataframe tbody tr th {\n",
       "        vertical-align: top;\n",
       "    }\n",
       "\n",
       "    .dataframe thead th {\n",
       "        text-align: right;\n",
       "    }\n",
       "</style>\n",
       "<table border=\"1\" class=\"dataframe\">\n",
       "  <thead>\n",
       "    <tr style=\"text-align: right;\">\n",
       "      <th></th>\n",
       "      <th>Unnamed: 0</th>\n",
       "      <th>baseMean</th>\n",
       "      <th>log2FoldChange</th>\n",
       "      <th>lfcSE</th>\n",
       "      <th>stat</th>\n",
       "      <th>pvalue</th>\n",
       "      <th>padj</th>\n",
       "    </tr>\n",
       "  </thead>\n",
       "  <tbody>\n",
       "    <tr>\n",
       "      <th>0</th>\n",
       "      <td>ENSG00000160072</td>\n",
       "      <td>320.844930</td>\n",
       "      <td>-0.485980</td>\n",
       "      <td>0.158346</td>\n",
       "      <td>-3.069099</td>\n",
       "      <td>0.002147</td>\n",
       "      <td>0.027228</td>\n",
       "    </tr>\n",
       "    <tr>\n",
       "      <th>1</th>\n",
       "      <td>ENSG00000069424</td>\n",
       "      <td>231.921712</td>\n",
       "      <td>1.142518</td>\n",
       "      <td>0.270989</td>\n",
       "      <td>4.216100</td>\n",
       "      <td>0.000025</td>\n",
       "      <td>0.000938</td>\n",
       "    </tr>\n",
       "    <tr>\n",
       "      <th>2</th>\n",
       "      <td>ENSG00000116786</td>\n",
       "      <td>1218.633025</td>\n",
       "      <td>0.397800</td>\n",
       "      <td>0.110444</td>\n",
       "      <td>3.601840</td>\n",
       "      <td>0.000316</td>\n",
       "      <td>0.006850</td>\n",
       "    </tr>\n",
       "    <tr>\n",
       "      <th>3</th>\n",
       "      <td>ENSG00000116254</td>\n",
       "      <td>16.742005</td>\n",
       "      <td>2.723629</td>\n",
       "      <td>0.707977</td>\n",
       "      <td>3.847057</td>\n",
       "      <td>0.000120</td>\n",
       "      <td>0.003336</td>\n",
       "    </tr>\n",
       "    <tr>\n",
       "      <th>4</th>\n",
       "      <td>ENSG00000204138</td>\n",
       "      <td>316.084877</td>\n",
       "      <td>-0.535310</td>\n",
       "      <td>0.146291</td>\n",
       "      <td>-3.659209</td>\n",
       "      <td>0.000253</td>\n",
       "      <td>0.005816</td>\n",
       "    </tr>\n",
       "    <tr>\n",
       "      <th>...</th>\n",
       "      <td>...</td>\n",
       "      <td>...</td>\n",
       "      <td>...</td>\n",
       "      <td>...</td>\n",
       "      <td>...</td>\n",
       "      <td>...</td>\n",
       "      <td>...</td>\n",
       "    </tr>\n",
       "    <tr>\n",
       "      <th>1447</th>\n",
       "      <td>ENSG00000159131</td>\n",
       "      <td>1000.997666</td>\n",
       "      <td>-0.377618</td>\n",
       "      <td>0.125794</td>\n",
       "      <td>-3.001884</td>\n",
       "      <td>0.002683</td>\n",
       "      <td>0.031762</td>\n",
       "    </tr>\n",
       "    <tr>\n",
       "      <th>1448</th>\n",
       "      <td>ENSG00000159259</td>\n",
       "      <td>114.924454</td>\n",
       "      <td>-1.791030</td>\n",
       "      <td>0.474113</td>\n",
       "      <td>-3.777641</td>\n",
       "      <td>0.000158</td>\n",
       "      <td>0.004068</td>\n",
       "    </tr>\n",
       "    <tr>\n",
       "      <th>1449</th>\n",
       "      <td>ENSG00000160298</td>\n",
       "      <td>76.770422</td>\n",
       "      <td>-1.189802</td>\n",
       "      <td>0.372401</td>\n",
       "      <td>-3.194951</td>\n",
       "      <td>0.001399</td>\n",
       "      <td>0.019928</td>\n",
       "    </tr>\n",
       "    <tr>\n",
       "      <th>1450</th>\n",
       "      <td>ENSG00000159055</td>\n",
       "      <td>123.604477</td>\n",
       "      <td>-0.946033</td>\n",
       "      <td>0.322999</td>\n",
       "      <td>-2.928900</td>\n",
       "      <td>0.003402</td>\n",
       "      <td>0.038006</td>\n",
       "    </tr>\n",
       "    <tr>\n",
       "      <th>1451</th>\n",
       "      <td>ENSG00000159200</td>\n",
       "      <td>1182.501499</td>\n",
       "      <td>1.555595</td>\n",
       "      <td>0.470804</td>\n",
       "      <td>3.304129</td>\n",
       "      <td>0.000953</td>\n",
       "      <td>0.015224</td>\n",
       "    </tr>\n",
       "  </tbody>\n",
       "</table>\n",
       "<p>1452 rows × 7 columns</p>\n",
       "</div>"
      ],
      "text/plain": [
       "           Unnamed: 0     baseMean  log2FoldChange     lfcSE      stat  \\\n",
       "0     ENSG00000160072   320.844930       -0.485980  0.158346 -3.069099   \n",
       "1     ENSG00000069424   231.921712        1.142518  0.270989  4.216100   \n",
       "2     ENSG00000116786  1218.633025        0.397800  0.110444  3.601840   \n",
       "3     ENSG00000116254    16.742005        2.723629  0.707977  3.847057   \n",
       "4     ENSG00000204138   316.084877       -0.535310  0.146291 -3.659209   \n",
       "...               ...          ...             ...       ...       ...   \n",
       "1447  ENSG00000159131  1000.997666       -0.377618  0.125794 -3.001884   \n",
       "1448  ENSG00000159259   114.924454       -1.791030  0.474113 -3.777641   \n",
       "1449  ENSG00000160298    76.770422       -1.189802  0.372401 -3.194951   \n",
       "1450  ENSG00000159055   123.604477       -0.946033  0.322999 -2.928900   \n",
       "1451  ENSG00000159200  1182.501499        1.555595  0.470804  3.304129   \n",
       "\n",
       "        pvalue      padj  \n",
       "0     0.002147  0.027228  \n",
       "1     0.000025  0.000938  \n",
       "2     0.000316  0.006850  \n",
       "3     0.000120  0.003336  \n",
       "4     0.000253  0.005816  \n",
       "...        ...       ...  \n",
       "1447  0.002683  0.031762  \n",
       "1448  0.000158  0.004068  \n",
       "1449  0.001399  0.019928  \n",
       "1450  0.003402  0.038006  \n",
       "1451  0.000953  0.015224  \n",
       "\n",
       "[1452 rows x 7 columns]"
      ]
     },
     "execution_count": 19,
     "metadata": {},
     "output_type": "execute_result"
    }
   ],
   "source": [
    "df = pd.read_csv('deseq_results.csv')\n",
    "df"
   ]
  },
  {
   "cell_type": "code",
   "execution_count": 20,
   "id": "a3fac37a",
   "metadata": {},
   "outputs": [],
   "source": [
    "gtf = dict(gtf)"
   ]
  },
  {
   "cell_type": "code",
   "execution_count": 21,
   "id": "8d5f4049",
   "metadata": {},
   "outputs": [],
   "source": [
    "df['Gene Name'] = df['Unnamed: 0'].map(gtf)"
   ]
  },
  {
   "cell_type": "code",
   "execution_count": 22,
   "id": "636d86cb",
   "metadata": {},
   "outputs": [
    {
     "data": {
      "text/html": [
       "<div>\n",
       "<style scoped>\n",
       "    .dataframe tbody tr th:only-of-type {\n",
       "        vertical-align: middle;\n",
       "    }\n",
       "\n",
       "    .dataframe tbody tr th {\n",
       "        vertical-align: top;\n",
       "    }\n",
       "\n",
       "    .dataframe thead th {\n",
       "        text-align: right;\n",
       "    }\n",
       "</style>\n",
       "<table border=\"1\" class=\"dataframe\">\n",
       "  <thead>\n",
       "    <tr style=\"text-align: right;\">\n",
       "      <th></th>\n",
       "      <th>Unnamed: 0</th>\n",
       "      <th>baseMean</th>\n",
       "      <th>log2FoldChange</th>\n",
       "      <th>lfcSE</th>\n",
       "      <th>stat</th>\n",
       "      <th>pvalue</th>\n",
       "      <th>padj</th>\n",
       "      <th>Gene Name</th>\n",
       "    </tr>\n",
       "  </thead>\n",
       "  <tbody>\n",
       "    <tr>\n",
       "      <th>0</th>\n",
       "      <td>ENSG00000160072</td>\n",
       "      <td>320.844930</td>\n",
       "      <td>-0.485980</td>\n",
       "      <td>0.158346</td>\n",
       "      <td>-3.069099</td>\n",
       "      <td>0.002147</td>\n",
       "      <td>0.027228</td>\n",
       "      <td>ATAD3B</td>\n",
       "    </tr>\n",
       "    <tr>\n",
       "      <th>1</th>\n",
       "      <td>ENSG00000069424</td>\n",
       "      <td>231.921712</td>\n",
       "      <td>1.142518</td>\n",
       "      <td>0.270989</td>\n",
       "      <td>4.216100</td>\n",
       "      <td>0.000025</td>\n",
       "      <td>0.000938</td>\n",
       "      <td>KCNAB2</td>\n",
       "    </tr>\n",
       "    <tr>\n",
       "      <th>2</th>\n",
       "      <td>ENSG00000116786</td>\n",
       "      <td>1218.633025</td>\n",
       "      <td>0.397800</td>\n",
       "      <td>0.110444</td>\n",
       "      <td>3.601840</td>\n",
       "      <td>0.000316</td>\n",
       "      <td>0.006850</td>\n",
       "      <td>PLEKHM2</td>\n",
       "    </tr>\n",
       "    <tr>\n",
       "      <th>3</th>\n",
       "      <td>ENSG00000116254</td>\n",
       "      <td>16.742005</td>\n",
       "      <td>2.723629</td>\n",
       "      <td>0.707977</td>\n",
       "      <td>3.847057</td>\n",
       "      <td>0.000120</td>\n",
       "      <td>0.003336</td>\n",
       "      <td>CHD5</td>\n",
       "    </tr>\n",
       "    <tr>\n",
       "      <th>4</th>\n",
       "      <td>ENSG00000204138</td>\n",
       "      <td>316.084877</td>\n",
       "      <td>-0.535310</td>\n",
       "      <td>0.146291</td>\n",
       "      <td>-3.659209</td>\n",
       "      <td>0.000253</td>\n",
       "      <td>0.005816</td>\n",
       "      <td>PHACTR4</td>\n",
       "    </tr>\n",
       "    <tr>\n",
       "      <th>...</th>\n",
       "      <td>...</td>\n",
       "      <td>...</td>\n",
       "      <td>...</td>\n",
       "      <td>...</td>\n",
       "      <td>...</td>\n",
       "      <td>...</td>\n",
       "      <td>...</td>\n",
       "      <td>...</td>\n",
       "    </tr>\n",
       "    <tr>\n",
       "      <th>1447</th>\n",
       "      <td>ENSG00000159131</td>\n",
       "      <td>1000.997666</td>\n",
       "      <td>-0.377618</td>\n",
       "      <td>0.125794</td>\n",
       "      <td>-3.001884</td>\n",
       "      <td>0.002683</td>\n",
       "      <td>0.031762</td>\n",
       "      <td>GART</td>\n",
       "    </tr>\n",
       "    <tr>\n",
       "      <th>1448</th>\n",
       "      <td>ENSG00000159259</td>\n",
       "      <td>114.924454</td>\n",
       "      <td>-1.791030</td>\n",
       "      <td>0.474113</td>\n",
       "      <td>-3.777641</td>\n",
       "      <td>0.000158</td>\n",
       "      <td>0.004068</td>\n",
       "      <td>CHAF1B</td>\n",
       "    </tr>\n",
       "    <tr>\n",
       "      <th>1449</th>\n",
       "      <td>ENSG00000160298</td>\n",
       "      <td>76.770422</td>\n",
       "      <td>-1.189802</td>\n",
       "      <td>0.372401</td>\n",
       "      <td>-3.194951</td>\n",
       "      <td>0.001399</td>\n",
       "      <td>0.019928</td>\n",
       "      <td>C21orf58</td>\n",
       "    </tr>\n",
       "    <tr>\n",
       "      <th>1450</th>\n",
       "      <td>ENSG00000159055</td>\n",
       "      <td>123.604477</td>\n",
       "      <td>-0.946033</td>\n",
       "      <td>0.322999</td>\n",
       "      <td>-2.928900</td>\n",
       "      <td>0.003402</td>\n",
       "      <td>0.038006</td>\n",
       "      <td>MIS18A</td>\n",
       "    </tr>\n",
       "    <tr>\n",
       "      <th>1451</th>\n",
       "      <td>ENSG00000159200</td>\n",
       "      <td>1182.501499</td>\n",
       "      <td>1.555595</td>\n",
       "      <td>0.470804</td>\n",
       "      <td>3.304129</td>\n",
       "      <td>0.000953</td>\n",
       "      <td>0.015224</td>\n",
       "      <td>RCAN1</td>\n",
       "    </tr>\n",
       "  </tbody>\n",
       "</table>\n",
       "<p>1452 rows × 8 columns</p>\n",
       "</div>"
      ],
      "text/plain": [
       "           Unnamed: 0     baseMean  log2FoldChange     lfcSE      stat  \\\n",
       "0     ENSG00000160072   320.844930       -0.485980  0.158346 -3.069099   \n",
       "1     ENSG00000069424   231.921712        1.142518  0.270989  4.216100   \n",
       "2     ENSG00000116786  1218.633025        0.397800  0.110444  3.601840   \n",
       "3     ENSG00000116254    16.742005        2.723629  0.707977  3.847057   \n",
       "4     ENSG00000204138   316.084877       -0.535310  0.146291 -3.659209   \n",
       "...               ...          ...             ...       ...       ...   \n",
       "1447  ENSG00000159131  1000.997666       -0.377618  0.125794 -3.001884   \n",
       "1448  ENSG00000159259   114.924454       -1.791030  0.474113 -3.777641   \n",
       "1449  ENSG00000160298    76.770422       -1.189802  0.372401 -3.194951   \n",
       "1450  ENSG00000159055   123.604477       -0.946033  0.322999 -2.928900   \n",
       "1451  ENSG00000159200  1182.501499        1.555595  0.470804  3.304129   \n",
       "\n",
       "        pvalue      padj Gene Name  \n",
       "0     0.002147  0.027228    ATAD3B  \n",
       "1     0.000025  0.000938    KCNAB2  \n",
       "2     0.000316  0.006850   PLEKHM2  \n",
       "3     0.000120  0.003336      CHD5  \n",
       "4     0.000253  0.005816   PHACTR4  \n",
       "...        ...       ...       ...  \n",
       "1447  0.002683  0.031762      GART  \n",
       "1448  0.000158  0.004068    CHAF1B  \n",
       "1449  0.001399  0.019928  C21orf58  \n",
       "1450  0.003402  0.038006    MIS18A  \n",
       "1451  0.000953  0.015224     RCAN1  \n",
       "\n",
       "[1452 rows x 8 columns]"
      ]
     },
     "execution_count": 22,
     "metadata": {},
     "output_type": "execute_result"
    }
   ],
   "source": [
    "df"
   ]
  },
  {
   "cell_type": "code",
   "execution_count": null,
   "id": "3394d1e1",
   "metadata": {},
   "outputs": [],
   "source": []
  },
  {
   "cell_type": "code",
   "execution_count": null,
   "id": "283a35eb",
   "metadata": {},
   "outputs": [],
   "source": []
  },
  {
   "cell_type": "code",
   "execution_count": null,
   "id": "a7a56a7e",
   "metadata": {},
   "outputs": [],
   "source": []
  },
  {
   "cell_type": "code",
   "execution_count": null,
   "id": "675931c3",
   "metadata": {},
   "outputs": [],
   "source": []
  },
  {
   "cell_type": "code",
   "execution_count": null,
   "id": "62108215",
   "metadata": {},
   "outputs": [],
   "source": []
  }
 ],
 "metadata": {
  "kernelspec": {
   "display_name": "Python 3 (ipykernel)",
   "language": "python",
   "name": "python3"
  },
  "language_info": {
   "codemirror_mode": {
    "name": "ipython",
    "version": 3
   },
   "file_extension": ".py",
   "mimetype": "text/x-python",
   "name": "python",
   "nbconvert_exporter": "python",
   "pygments_lexer": "ipython3",
   "version": "3.10.1"
  }
 },
 "nbformat": 4,
 "nbformat_minor": 5
}
