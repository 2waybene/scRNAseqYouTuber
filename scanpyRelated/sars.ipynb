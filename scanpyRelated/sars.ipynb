{
 "cells": [
  {
   "cell_type": "code",
   "execution_count": null,
   "id": "6b59154c",
   "metadata": {},
   "outputs": [],
   "source": [
    "#wget <linux download link from miniconda website>\n",
    "#sh <downloaded file>\n",
    "#conda create -n youtube\n",
    "#conda activate youtube\n",
    "#conda install pip\n",
    "#pip install notebook\n",
    "#pip install biopython\n",
    "#jupyter notebook"
   ]
  },
  {
   "cell_type": "code",
   "execution_count": 1,
   "id": "3624b6dd",
   "metadata": {},
   "outputs": [],
   "source": [
    "from Bio import SeqIO"
   ]
  },
  {
   "cell_type": "code",
   "execution_count": 12,
   "id": "10181886",
   "metadata": {},
   "outputs": [],
   "source": [
    "fasta = list(SeqIO.parse('seqs_ali.fasta', format = 'fasta'))"
   ]
  },
  {
   "cell_type": "code",
   "execution_count": 13,
   "id": "0d37af12",
   "metadata": {},
   "outputs": [
    {
     "name": "stdout",
     "output_type": "stream",
     "text": [
      "Wuhan_strain\n",
      "B.1.1.7|Alpha\n",
      "B.1.351|Beta\n",
      "P.1|Gamma\n",
      "B.1.617|Delta\n",
      "B.1.1.529|Omicron\n"
     ]
    }
   ],
   "source": [
    "for entry in fasta:\n",
    "    print(entry.id)"
   ]
  },
  {
   "cell_type": "code",
   "execution_count": 14,
   "id": "baf16fb3",
   "metadata": {},
   "outputs": [],
   "source": [
    "seqs = {}\n",
    "for entry in fasta:\n",
    "    seqs[entry.id] = entry"
   ]
  },
  {
   "cell_type": "code",
   "execution_count": 15,
   "id": "99376ca5",
   "metadata": {},
   "outputs": [
    {
     "data": {
      "text/plain": [
       "SeqRecord(seq=Seq('attaaaggtttataccttcccaggtaacaaaccaaccaactttcgatctcttgt...aaa'), id='Wuhan_strain', name='Wuhan_strain', description='Wuhan_strain', dbxrefs=[])"
      ]
     },
     "execution_count": 15,
     "metadata": {},
     "output_type": "execute_result"
    }
   ],
   "source": [
    "seqs['Wuhan_strain']"
   ]
  },
  {
   "cell_type": "code",
   "execution_count": 16,
   "id": "81f37021",
   "metadata": {},
   "outputs": [
    {
     "data": {
      "text/plain": [
       "Seq('attaaaggtttataccttcccaggtaacaaaccaaccaactttcgatctcttgt...aaa')"
      ]
     },
     "execution_count": 16,
     "metadata": {},
     "output_type": "execute_result"
    }
   ],
   "source": [
    "seqs['Wuhan_strain'].seq"
   ]
  },
  {
   "cell_type": "code",
   "execution_count": 17,
   "id": "71a18a25",
   "metadata": {},
   "outputs": [
    {
     "name": "stdout",
     "output_type": "stream",
     "text": [
      "29912\n",
      "29912\n",
      "29912\n",
      "29912\n",
      "29912\n",
      "29912\n"
     ]
    }
   ],
   "source": [
    "for entry in fasta:\n",
    "    print(len(entry.seq))"
   ]
  },
  {
   "cell_type": "code",
   "execution_count": null,
   "id": "8366e9ee",
   "metadata": {},
   "outputs": [],
   "source": [
    "#mafft\n",
    "#conda install -c biocore mafft"
   ]
  },
  {
   "cell_type": "code",
   "execution_count": 11,
   "id": "fb7b34d0",
   "metadata": {},
   "outputs": [],
   "source": [
    "#!mafft seqs.fasta > seqs_ali.fasta"
   ]
  },
  {
   "cell_type": "code",
   "execution_count": 18,
   "id": "4bea80e0",
   "metadata": {},
   "outputs": [],
   "source": [
    "#21563..25384"
   ]
  },
  {
   "cell_type": "code",
   "execution_count": 27,
   "id": "eef7511b",
   "metadata": {},
   "outputs": [],
   "source": [
    "def gapped_pos(seq, pos):\n",
    "    non_gap = 0\n",
    "    gaps = 0\n",
    "    for nt in seq:\n",
    "        if nt != '-':\n",
    "            non_gap += 1\n",
    "        else:\n",
    "            gaps += 1\n",
    "        if non_gap == pos:\n",
    "            return pos + gaps"
   ]
  },
  {
   "cell_type": "code",
   "execution_count": 28,
   "id": "5bb9b8e0",
   "metadata": {},
   "outputs": [
    {
     "data": {
      "text/plain": [
       "8"
      ]
     },
     "execution_count": 28,
     "metadata": {},
     "output_type": "execute_result"
    }
   ],
   "source": [
    "gapped_pos('aaa-aa-a', 6)"
   ]
  },
  {
   "cell_type": "code",
   "execution_count": 29,
   "id": "4d6039f0",
   "metadata": {},
   "outputs": [
    {
     "data": {
      "text/plain": [
       "21563"
      ]
     },
     "execution_count": 29,
     "metadata": {},
     "output_type": "execute_result"
    }
   ],
   "source": [
    "gapped_pos(seqs['Wuhan_strain'].seq, 21563)"
   ]
  },
  {
   "cell_type": "code",
   "execution_count": 30,
   "id": "38809321",
   "metadata": {},
   "outputs": [
    {
     "data": {
      "text/plain": [
       "25393"
      ]
     },
     "execution_count": 30,
     "metadata": {},
     "output_type": "execute_result"
    }
   ],
   "source": [
    "gapped_pos(seqs['Wuhan_strain'].seq, 25384)"
   ]
  },
  {
   "cell_type": "code",
   "execution_count": 31,
   "id": "4eaa7bb2",
   "metadata": {},
   "outputs": [],
   "source": [
    "spikes = {}\n",
    "for seq in fasta:\n",
    "    spikes[seq.id] = seq.seq[21563-1:25393]"
   ]
  },
  {
   "cell_type": "code",
   "execution_count": 32,
   "id": "2c513db7",
   "metadata": {},
   "outputs": [
    {
     "name": "stdout",
     "output_type": "stream",
     "text": [
      "atgtttgttt\n",
      "atgtttgttt\n",
      "atgtttgttt\n",
      "atgtttgttt\n",
      "atgtttgttt\n",
      "atgtttgttt\n"
     ]
    }
   ],
   "source": [
    "for spike in spikes:\n",
    "    print(spikes[spike][0:10])"
   ]
  },
  {
   "cell_type": "code",
   "execution_count": 33,
   "id": "75080523",
   "metadata": {},
   "outputs": [],
   "source": [
    "def get_mutations(initial, variant):\n",
    "    seqs = list(zip(initial, variant))\n",
    "    for pos, nt in enumerate(seqs):\n",
    "        if nt[0] != nt[1]:\n",
    "            print(nt[0].upper() + str(pos) + nt[1].upper())"
   ]
  },
  {
   "cell_type": "code",
   "execution_count": 34,
   "id": "d02d159a",
   "metadata": {},
   "outputs": [
    {
     "name": "stdout",
     "output_type": "stream",
     "text": [
      "C199T\n",
      "T202-\n",
      "A203-\n",
      "C204-\n",
      "A205-\n",
      "T206-\n",
      "G207-\n",
      "C283T\n",
      "G424-\n",
      "T425-\n",
      "G426-\n",
      "T427-\n",
      "T428-\n",
      "T429-\n",
      "A430-\n",
      "T431-\n",
      "T432-\n",
      "A631-\n",
      "T632-\n",
      "T633-\n",
      "-642G\n",
      "-643A\n",
      "-644G\n",
      "-645C\n",
      "-646C\n",
      "-647A\n",
      "-648G\n",
      "-649A\n",
      "-650A\n",
      "G1024A\n",
      "T1119C\n",
      "C1120T\n",
      "T1125C\n",
      "C1132T\n",
      "G1259T\n",
      "T1328G\n",
      "G1344A\n",
      "G1438A\n",
      "C1441A\n",
      "A1459C\n",
      "A1486G\n",
      "G1494A\n",
      "A1501G\n",
      "A1509T\n",
      "T1521C\n",
      "C1648A\n",
      "A1849G\n",
      "C1971T\n",
      "T2045G\n",
      "C2050A\n",
      "C2300A\n",
      "G2394T\n",
      "C2576A\n",
      "A2870T\n",
      "T2915A\n",
      "C2949T\n",
      "C3446T\n"
     ]
    }
   ],
   "source": [
    "get_mutations(spikes['Wuhan_strain'], spikes['B.1.1.529|Omicron'])"
   ]
  },
  {
   "cell_type": "code",
   "execution_count": 43,
   "id": "9c5ab0da",
   "metadata": {},
   "outputs": [],
   "source": [
    "with open('spikes.fasta', 'w') as f:\n",
    "    for spike in spikes:\n",
    "        out = spikes[spike].replace('-', '').translate()\n",
    "        f.write('>' + spike + '\\n')\n",
    "        f.write(str(out).upper()+'\\n')"
   ]
  },
  {
   "cell_type": "code",
   "execution_count": 44,
   "id": "144d0abb",
   "metadata": {},
   "outputs": [
    {
     "name": "stdout",
     "output_type": "stream",
     "text": [
      "seqs_ali.fasta\tseqs.fasta  spikes_ali.fasta  spikes.fasta  Untitled.ipynb\r\n"
     ]
    }
   ],
   "source": [
    "!ls"
   ]
  },
  {
   "cell_type": "code",
   "execution_count": 47,
   "id": "62910492",
   "metadata": {},
   "outputs": [],
   "source": [
    "spikes_aa = list(SeqIO.parse('spikes_ali.fasta', format = 'fasta'))"
   ]
  },
  {
   "cell_type": "code",
   "execution_count": 48,
   "id": "954066a3",
   "metadata": {},
   "outputs": [
    {
     "data": {
      "text/plain": [
       "[SeqRecord(seq=Seq('MFVFLVLLPLVSSQCVNLTTRTQLPPAYTNSFTRGVYYPDKVFRSSVLHSTQDL...HYT'), id='Wuhan_strain', name='Wuhan_strain', description='Wuhan_strain', dbxrefs=[]),\n",
       " SeqRecord(seq=Seq('MFVFLVLLPLVSSQCVNLTTRTQLPPAYTNSFTRGVYYPDKVFRSSVLHSTQDL...HYT'), id='B.1.1.7|Alpha', name='B.1.1.7|Alpha', description='B.1.1.7|Alpha', dbxrefs=[]),\n",
       " SeqRecord(seq=Seq('MFVFLVLLPLVSSQCVNLTTRTQLPPAYTNSFTRGVYYPDKVFRSSVLHSTQDL...HYT'), id='B.1.351|Beta', name='B.1.351|Beta', description='B.1.351|Beta', dbxrefs=[]),\n",
       " SeqRecord(seq=Seq('MFVFLVLLPLVSSQCVNFTNRTQLPSAYTNSFTRGVYYPDKVFRSSVLHSTQDL...HYT'), id='P.1|Gamma', name='P.1|Gamma', description='P.1|Gamma', dbxrefs=[]),\n",
       " SeqRecord(seq=Seq('MFVFLVLLPLVSSQCVNLRTRTQLPPAYTNSFTRGVYYPDKVFRSSVLHSTQDL...HYT'), id='B.1.617|Delta', name='B.1.617|Delta', description='B.1.617|Delta', dbxrefs=[]),\n",
       " SeqRecord(seq=Seq('MFVFLVLLPLVSSQCVNLTTRTQLPPAYTNSFTRGVYYPDKVFRSSVLHSTQDL...HYT'), id='B.1.1.529|Omicron', name='B.1.1.529|Omicron', description='B.1.1.529|Omicron', dbxrefs=[])]"
      ]
     },
     "execution_count": 48,
     "metadata": {},
     "output_type": "execute_result"
    }
   ],
   "source": [
    "spikes_aa"
   ]
  },
  {
   "cell_type": "code",
   "execution_count": 51,
   "id": "3318206e",
   "metadata": {},
   "outputs": [],
   "source": [
    "seqs = {}\n",
    "for entry in spikes_aa:\n",
    "    seqs[entry.id] = entry.seq"
   ]
  },
  {
   "cell_type": "code",
   "execution_count": 52,
   "id": "0bbedffa",
   "metadata": {},
   "outputs": [
    {
     "data": {
      "text/plain": [
       "Seq('MFVFLVLLPLVSSQCVNLTTRTQLPPAYTNSFTRGVYYPDKVFRSSVLHSTQDL...HYT')"
      ]
     },
     "execution_count": 52,
     "metadata": {},
     "output_type": "execute_result"
    }
   ],
   "source": [
    "seqs['Wuhan_strain']"
   ]
  },
  {
   "cell_type": "code",
   "execution_count": 58,
   "id": "93fbc693",
   "metadata": {},
   "outputs": [],
   "source": [
    "def get_aa_mutations(initial, variant):\n",
    "    out = []\n",
    "    seqs = list(zip(initial, variant))\n",
    "    for pos, aa in enumerate(seqs):\n",
    "        if aa[0] != aa[1]:\n",
    "            out.append(aa[0].upper() + str(pos) + aa[1].upper())\n",
    "    return out"
   ]
  },
  {
   "cell_type": "code",
   "execution_count": 63,
   "id": "f9f67370",
   "metadata": {},
   "outputs": [
    {
     "data": {
      "text/plain": [
       "10"
      ]
     },
     "execution_count": 63,
     "metadata": {},
     "output_type": "execute_result"
    }
   ],
   "source": [
    "len(get_aa_mutations(seqs['Wuhan_strain'], seqs['B.1.617|Delta']))"
   ]
  },
  {
   "cell_type": "code",
   "execution_count": 65,
   "id": "00b7c7b0",
   "metadata": {},
   "outputs": [
    {
     "name": "stdout",
     "output_type": "stream",
     "text": [
      "Wuhan_strain 0\n",
      "B.1.1.7|Alpha 10\n",
      "B.1.351|Beta 10\n",
      "P.1|Gamma 12\n",
      "B.1.617|Delta 10\n",
      "B.1.1.529|Omicron 39\n"
     ]
    }
   ],
   "source": [
    "for item in seqs:\n",
    "    print(item + ' '+str(len(get_aa_mutations(seqs['Wuhan_strain'], seqs[item]))))"
   ]
  },
  {
   "cell_type": "code",
   "execution_count": 66,
   "id": "ada08de2",
   "metadata": {},
   "outputs": [],
   "source": [
    "import matplotlib.pyplot as plt"
   ]
  },
  {
   "cell_type": "code",
   "execution_count": 72,
   "id": "70d8c686",
   "metadata": {},
   "outputs": [],
   "source": [
    "mutations = {}\n",
    "for item in seqs:\n",
    "    mutations[item] = get_aa_mutations(seqs['Wuhan_strain'], seqs[item])"
   ]
  },
  {
   "cell_type": "code",
   "execution_count": 90,
   "id": "0938cbcb",
   "metadata": {},
   "outputs": [
    {
     "data": {
      "image/png": "[encoded data removed]",
      "text/plain": [
       "<Figure size 1080x360 with 1 Axes>"
      ]
     },
     "metadata": {
      "needs_background": "light"
     },
     "output_type": "display_data"
    }
   ],
   "source": [
    "plt.figure(figsize = (15,5))\n",
    "for y, item in enumerate(seqs):\n",
    "    plt.plot((0,len(seqs['Wuhan_strain'])), (y,y), color = 'lightgrey')\n",
    "    plt.text(-160, y+.5, item, va = 'center', ha = 'left')\n",
    "    \n",
    "    for yy, mutation in enumerate(mutations[item]):\n",
    "        pos = int(mutation[1:-1])\n",
    "        aa_change = mutation[-1]\n",
    "        if yy%3 == 0:\n",
    "            plt.text(pos, y-.2, aa_change, va = 'center', ha = 'center')\n",
    "        elif yy%2 == 0:\n",
    "            plt.text(pos, y, aa_change, va = 'center', ha = 'center')\n",
    "        else:\n",
    "            plt.text(pos, y+.2, aa_change, va = 'center', ha = 'center')\n",
    "    \n",
    "    plt.xlim(-175, len(seqs['Wuhan_strain']) + 100)\n",
    "    plt.ylim(-.75, 5.75)"
   ]
  },
  {
   "cell_type": "code",
   "execution_count": 78,
   "id": "d1323598",
   "metadata": {},
   "outputs": [
    {
     "data": {
      "text/plain": [
       "'XXasdfdfX'"
      ]
     },
     "execution_count": 78,
     "metadata": {},
     "output_type": "execute_result"
    }
   ],
   "source": [
    "'AXXasdfdfXB'[1:-1]\n"
   ]
  },
  {
   "cell_type": "code",
   "execution_count": null,
   "id": "f2196448",
   "metadata": {},
   "outputs": [],
   "source": []
  }
 ],
 "metadata": {
  "kernelspec": {
   "display_name": "Python 3 (ipykernel)",
   "language": "python",
   "name": "python3"
  },
  "language_info": {
   "codemirror_mode": {
    "name": "ipython",
    "version": 3
   },
   "file_extension": ".py",
   "mimetype": "text/x-python",
   "name": "python",
   "nbconvert_exporter": "python",
   "pygments_lexer": "ipython3",
   "version": "3.10.0"
  }
 },
 "nbformat": 4,
 "nbformat_minor": 5
}
