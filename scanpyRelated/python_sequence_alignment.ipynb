{
 "cells": [
  {
   "cell_type": "code",
   "execution_count": null,
   "id": "2bb017e7",
   "metadata": {},
   "outputs": [],
   "source": [
    "#conda install -c bioconda mafft \n",
    "#!pip install Biopython"
   ]
  },
  {
   "cell_type": "markdown",
   "id": "c64c0ba6",
   "metadata": {},
   "source": [
    "Here I convert a SeqIO object to a string then to bytes. I then pass this encoded string to a subprocess call of maft through STDOUT. Mafft reads the encoded fasta through STDIN and ouputs the aligned fasta through STDOUT. This STDOUT is then decoded back into a python string and read as a new aligned SeqIO object.\n",
    "\n",
    "I have supplied a function at the bottom that takes unaligned SeqIO objects and returns alinged SeqIO objects"
   ]
  },
  {
   "cell_type": "code",
   "execution_count": 1,
   "id": "146e2ffc",
   "metadata": {},
   "outputs": [],
   "source": [
    "from Bio import SeqIO\n",
    "import subprocess\n",
    "from io import StringIO"
   ]
  },
  {
   "cell_type": "code",
   "execution_count": 2,
   "id": "d0655331",
   "metadata": {},
   "outputs": [
    {
     "name": "stdout",
     "output_type": "stream",
     "text": [
      "alignment.ipynb  sars_map.ipynb  test_500_seqs.fasta\r\n"
     ]
    }
   ],
   "source": [
    "!ls"
   ]
  },
  {
   "cell_type": "code",
   "execution_count": 3,
   "id": "22bd34fd",
   "metadata": {},
   "outputs": [],
   "source": [
    "seqs = list(SeqIO.parse('test_500_seqs.fasta', 'fasta'))"
   ]
  },
  {
   "cell_type": "code",
   "execution_count": 5,
   "id": "3e87ed3a",
   "metadata": {},
   "outputs": [
    {
     "data": {
      "text/plain": [
       "500"
      ]
     },
     "execution_count": 5,
     "metadata": {},
     "output_type": "execute_result"
    }
   ],
   "source": [
    "len(seqs)"
   ]
  },
  {
   "cell_type": "code",
   "execution_count": 6,
   "id": "ea18c1ac",
   "metadata": {},
   "outputs": [],
   "source": [
    "#This is just a command line example of what is happening in the python code below\n",
    "!cat test_500_seqs.fasta | mafft --quiet - > aligned_file.fasta"
   ]
  },
  {
   "cell_type": "code",
   "execution_count": 7,
   "id": "a2aa430b",
   "metadata": {},
   "outputs": [
    {
     "name": "stdout",
     "output_type": "stream",
     "text": [
      "aligned_file.fasta  alignment.ipynb  sars_map.ipynb  test_500_seqs.fasta\r\n"
     ]
    }
   ],
   "source": [
    "!ls"
   ]
  },
  {
   "cell_type": "code",
   "execution_count": 8,
   "id": "28029134",
   "metadata": {},
   "outputs": [],
   "source": [
    "seq_str = ''\n",
    "for seq in seqs:\n",
    "    seq_str += '>' + seq.description + '\\n'\n",
    "    seq_str += str(seq.seq) + '\\n'"
   ]
  },
  {
   "cell_type": "code",
   "execution_count": 10,
   "id": "cc16fddc",
   "metadata": {},
   "outputs": [],
   "source": [
    "child = subprocess.Popen(['mafft', '--quiet', '-'], stdin=subprocess.PIPE, stdout=subprocess.PIPE)\n",
    "child.stdin.write(seq_str.encode())\n",
    "child_out = child.communicate()[0].decode('utf8')\n",
    "seq_ali = list(SeqIO.parse(StringIO(child_out), 'fasta'))\n",
    "child.stdin.close()"
   ]
  },
  {
   "cell_type": "code",
   "execution_count": 14,
   "id": "b530f795",
   "metadata": {},
   "outputs": [],
   "source": [
    "#to write to file\n",
    "with open('aligned_file.fasta', 'w') as f:\n",
    "    for seq in seqs:\n",
    "        f.write( '>' + seq.description + '\\n')\n",
    "        f.write(str(seq.seq) + '\\n')\n"
   ]
  },
  {
   "cell_type": "code",
   "execution_count": null,
   "id": "dae165f9",
   "metadata": {},
   "outputs": [],
   "source": [
    "#in a function. takes unaligned SeqIO object and returns aligned SeqIO object\n",
    "def align_seqs(seqs):\n",
    "    seq_str = ''\n",
    "    for seq in seqs:\n",
    "        seq_str += '>' + seq.description + '\\n'\n",
    "        seq_str += str(seq.seq) + '\\n'\n",
    "    child = subprocess.Popen(['mafft', '--quiet', '-'], stdin=subprocess.PIPE, stdout=subprocess.PIPE)\n",
    "    child.stdin.write(seq_str.encode())\n",
    "    child_out = child.communicate()[0].decode('utf8')\n",
    "    seq_ali = list(SeqIO.parse(StringIO(child_out), 'fasta'))\n",
    "    child.stdin.close()\n",
    "    return seq_ali"
   ]
  },
  {
   "cell_type": "code",
   "execution_count": null,
   "id": "afc242a5",
   "metadata": {},
   "outputs": [],
   "source": []
  }
 ],
 "metadata": {
  "kernelspec": {
   "display_name": "Python 3 (ipykernel)",
   "language": "python",
   "name": "python3"
  },
  "language_info": {
   "codemirror_mode": {
    "name": "ipython",
    "version": 3
   },
   "file_extension": ".py",
   "mimetype": "text/x-python",
   "name": "python",
   "nbconvert_exporter": "python",
   "pygments_lexer": "ipython3",
   "version": "3.10.1"
  }
 },
 "nbformat": 4,
 "nbformat_minor": 5
}
