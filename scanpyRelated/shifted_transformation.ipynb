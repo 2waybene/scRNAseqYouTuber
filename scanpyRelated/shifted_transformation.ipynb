{
 "cells": [
  {
   "cell_type": "code",
   "execution_count": 10,
   "id": "ee4391f7",
   "metadata": {},
   "outputs": [],
   "source": [
    "import numpy as np\n",
    "import scanpy as sc\n",
    "from scipy.sparse import diags\n",
    "\n",
    "#from scipy.sparse import csr_matrix\n",
    "#will only work with sparse, covert prior : adata.X = csr_matrix(adata.X)\n",
    "\n",
    "def shifted_transformation(adata, y0=1):\n",
    "    size_factors = adata.X.sum(axis=1) / np.mean(adata.X.sum(axis=1))\n",
    "\n",
    "    adata.X = diags(1 / size_factors.A1).dot(adata.X)\n",
    "    adata.X.data = np.log(adata.X.data + y0)\n",
    "    \n",
    "    return adata\n"
   ]
  },
  {
   "cell_type": "code",
   "execution_count": 3,
   "id": "1d135da4",
   "metadata": {},
   "outputs": [],
   "source": [
    "adata = sc.datasets.pbmc3k() #loading pbcm toy dataset\n",
    "adata = shifted_transformation(adata)"
   ]
  },
  {
   "cell_type": "code",
   "execution_count": 11,
   "id": "8ff05ad0",
   "metadata": {},
   "outputs": [],
   "source": []
  },
  {
   "cell_type": "code",
   "execution_count": null,
   "id": "07b475dc",
   "metadata": {},
   "outputs": [],
   "source": []
  }
 ],
 "metadata": {
  "kernelspec": {
   "display_name": "Python 3 (ipykernel)",
   "language": "python",
   "name": "python3"
  },
  "language_info": {
   "codemirror_mode": {
    "name": "ipython",
    "version": 3
   },
   "file_extension": ".py",
   "mimetype": "text/x-python",
   "name": "python",
   "nbconvert_exporter": "python",
   "pygments_lexer": "ipython3",
   "version": "3.10.6"
  }
 },
 "nbformat": 4,
 "nbformat_minor": 5
}
