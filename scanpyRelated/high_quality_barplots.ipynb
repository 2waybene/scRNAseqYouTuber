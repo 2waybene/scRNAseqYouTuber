{
 "cells": [
  {
   "cell_type": "code",
   "execution_count": 1,
   "id": "b173b621",
   "metadata": {},
   "outputs": [],
   "source": [
    "import matplotlib.pyplot as plt\n",
    "import seaborn as sns"
   ]
  },
  {
   "cell_type": "code",
   "execution_count": 68,
   "id": "569d4896",
   "metadata": {},
   "outputs": [],
   "source": [
    "a = [67, 56, 62, 70, 89]\n",
    "b = [42, 55, 61, 51, 62]\n",
    "\n",
    "vals = a + b\n",
    "groups = ['Gene_a']*5 + ['Control']*5"
   ]
  },
  {
   "cell_type": "code",
   "execution_count": 27,
   "id": "280b161c",
   "metadata": {},
   "outputs": [
    {
     "data": {
      "text/plain": [
       "MannwhitneyuResult(statistic=22.5, pvalue=0.046532985074510584)"
      ]
     },
     "execution_count": 27,
     "metadata": {},
     "output_type": "execute_result"
    }
   ],
   "source": [
    "from scipy import stats\n",
    "stats.mannwhitneyu(a,b)"
   ]
  },
  {
   "cell_type": "code",
   "execution_count": 69,
   "id": "d37f53ce",
   "metadata": {},
   "outputs": [
    {
     "data": {
      "image/png": "[encoded data removed]",
      "text/plain": [
       "<Figure size 144x288 with 1 Axes>"
      ]
     },
     "metadata": {
      "needs_background": "light"
     },
     "output_type": "display_data"
    }
   ],
   "source": [
    "plt.figure(figsize = (2,4))\n",
    "\n",
    "ax = sns.barplot(x = groups, y = vals, capsize = 0.5, edgecolor = '0.2', lw = 2.5, errwidth = 2.5, \n",
    "                palette = ['brown', 'mistyrose'], errcolor = '0.2')\n",
    "\n",
    "kwargs = {'edgecolor':'0.2', 'linewidth':2.5, 'fc': 'none'}\n",
    "\n",
    "ax = sns.swarmplot(x = groups, y = vals, marker = 's', s = 10, **kwargs)\n",
    "\n",
    "prev_lim = ax.get_ylim()[1]\n",
    "\n",
    "max_val = max(vals)\n",
    "plt.plot([0,0,1,1], [max_val+5, max_val+8, max_val+8, max_val+5], lw = 2.5, color = '0.2', \n",
    "        clip_on = False)\n",
    "\n",
    "plt.text(x = 0.5, y = max_val+8, s = '*', ha = 'center', size = 20, weight = 'bold', color = '0.2')\n",
    "\n",
    "\n",
    "for axis in ['bottom', 'left']:\n",
    "    ax.spines[axis].set_linewidth(2.5)\n",
    "    ax.spines[axis].set_color('0.2')\n",
    "    \n",
    "ax.spines['top'].set_visible(False)\n",
    "ax.spines['right'].set_visible(False)\n",
    "\n",
    "plt.xticks(size = 14, rotation = 35, rotation_mode = 'anchor', ha = 'right', weight = 'bold', color = '0.2')\n",
    "plt.yticks(size = 14, weight = 'bold', color = '0.2')\n",
    "\n",
    "ax.tick_params(width = 2.5, color = '0.2')\n",
    "\n",
    "plt.ylim(top = prev_lim)\n",
    "\n",
    "\n",
    "plt.savefig('bar_test.svg', bbox_inches = 'tight')\n",
    "plt.savefig('bar_test.png', bbox_inches = 'tight', dpi = 250, facecolor = ax.get_facecolor())"
   ]
  },
  {
   "cell_type": "code",
   "execution_count": 39,
   "id": "dd2b76bc",
   "metadata": {},
   "outputs": [],
   "source": [
    "import pandas as pd"
   ]
  },
  {
   "cell_type": "code",
   "execution_count": 40,
   "id": "dfc3cee6",
   "metadata": {},
   "outputs": [],
   "source": [
    "a = [67, 56, 62, 70, 89, 45, 37, 50, 60, 34]\n",
    "b = [42, 55, 61, 51, 62, 25, 41, 35, 38, 22]\n",
    "\n",
    "vals = a + b\n",
    "gene = ['Gene_a']*10 + ['Control']*10\n",
    "\n",
    "groups = ['Treated']*5 + ['Untreated']*5 + ['Treated']*5 + ['Untreated']*5\n",
    "\n",
    "df = pd.DataFrame(zip(vals, gene, groups), columns = ['Value', 'Gene', 'Treatment'])"
   ]
  },
  {
   "cell_type": "code",
   "execution_count": 42,
   "id": "f8f6280a",
   "metadata": {},
   "outputs": [
    {
     "data": {
      "text/html": [
       "<div>\n",
       "<style scoped>\n",
       "    .dataframe tbody tr th:only-of-type {\n",
       "        vertical-align: middle;\n",
       "    }\n",
       "\n",
       "    .dataframe tbody tr th {\n",
       "        vertical-align: top;\n",
       "    }\n",
       "\n",
       "    .dataframe thead th {\n",
       "        text-align: right;\n",
       "    }\n",
       "</style>\n",
       "<table border=\"1\" class=\"dataframe\">\n",
       "  <thead>\n",
       "    <tr style=\"text-align: right;\">\n",
       "      <th></th>\n",
       "      <th>Value</th>\n",
       "      <th>Gene</th>\n",
       "      <th>Treatment</th>\n",
       "    </tr>\n",
       "  </thead>\n",
       "  <tbody>\n",
       "    <tr>\n",
       "      <th>0</th>\n",
       "      <td>67</td>\n",
       "      <td>Gene_a</td>\n",
       "      <td>Treated</td>\n",
       "    </tr>\n",
       "    <tr>\n",
       "      <th>1</th>\n",
       "      <td>56</td>\n",
       "      <td>Gene_a</td>\n",
       "      <td>Treated</td>\n",
       "    </tr>\n",
       "    <tr>\n",
       "      <th>2</th>\n",
       "      <td>62</td>\n",
       "      <td>Gene_a</td>\n",
       "      <td>Treated</td>\n",
       "    </tr>\n",
       "    <tr>\n",
       "      <th>3</th>\n",
       "      <td>70</td>\n",
       "      <td>Gene_a</td>\n",
       "      <td>Treated</td>\n",
       "    </tr>\n",
       "    <tr>\n",
       "      <th>4</th>\n",
       "      <td>89</td>\n",
       "      <td>Gene_a</td>\n",
       "      <td>Treated</td>\n",
       "    </tr>\n",
       "  </tbody>\n",
       "</table>\n",
       "</div>"
      ],
      "text/plain": [
       "   Value    Gene Treatment\n",
       "0     67  Gene_a   Treated\n",
       "1     56  Gene_a   Treated\n",
       "2     62  Gene_a   Treated\n",
       "3     70  Gene_a   Treated\n",
       "4     89  Gene_a   Treated"
      ]
     },
     "execution_count": 42,
     "metadata": {},
     "output_type": "execute_result"
    }
   ],
   "source": [
    "df.head()"
   ]
  },
  {
   "cell_type": "code",
   "execution_count": 63,
   "id": "db7749d0",
   "metadata": {},
   "outputs": [
    {
     "data": {
      "image/png": "[encoded data removed]",
      "text/plain": [
       "<Figure size 288x288 with 1 Axes>"
      ]
     },
     "metadata": {
      "needs_background": "light"
     },
     "output_type": "display_data"
    }
   ],
   "source": [
    "plt.figure(figsize = (4,4))\n",
    "\n",
    "ax = sns.barplot(data = df, x = 'Gene', y = 'Value', capsize = 0.25, edgecolor = '0.2', lw = 2.5, errwidth = 2.5, \n",
    "                palette = ['brown', 'mistyrose'], errcolor = '0.2', hue = 'Treatment')\n",
    "\n",
    "kwargs = {'edgecolor':'0.2', 'linewidth':2.5, 'fc': 'none'}\n",
    "\n",
    "ax = sns.swarmplot(data = df, x = 'Gene', y = 'Value', hue = 'Treatment',\n",
    "                   dodge = True, marker = 's', s = 10, **kwargs)\n",
    "\n",
    "prev_lim = ax.get_ylim()[1]\n",
    "\n",
    "max_val = max(vals)\n",
    "\n",
    "\n",
    "handles, labels = ax.get_legend_handles_labels()\n",
    "\n",
    "plt.legend(handles[2:], labels[2:], loc = 10, bbox_to_anchor = (0.5, -0.15), \n",
    "          ncol = 2, frameon = False, fontsize = 14, labelcolor = '0.2', prop = {'weight': 'bold'})\n",
    "\n",
    "\n",
    "\n",
    "for axis in ['bottom', 'left']:\n",
    "    ax.spines[axis].set_linewidth(2.5)\n",
    "    ax.spines[axis].set_color('0.2')\n",
    "    \n",
    "ax.spines['top'].set_visible(False)\n",
    "ax.spines['right'].set_visible(False)\n",
    "\n",
    "plt.xticks(size = 14, ha = 'center', weight = 'bold', color = '0.2')\n",
    "plt.yticks(size = 14, weight = 'bold', color = '0.2')\n",
    "\n",
    "ax.tick_params(width = 2.5, color = '0.2')\n",
    "\n",
    "plt.xlabel('')\n",
    "plt.ylabel('Values', size = 14, weight = 'bold', color = '0.2')\n",
    "\n",
    "#plt.ylim(top = prev_lim)\n",
    "\n",
    "\n",
    "plt.savefig('bar_test_big.svg', bbox_inches = 'tight')\n",
    "plt.savefig('bar_test_big.png', bbox_inches = 'tight', dpi = 250, facecolor = ax.get_facecolor())"
   ]
  },
  {
   "cell_type": "code",
   "execution_count": 67,
   "id": "8341a2ef",
   "metadata": {},
   "outputs": [
    {
     "name": "stdout",
     "output_type": "stream",
     "text": [
      "[[-0.2 60.4]\n",
      " [-0.2 79.2]]\n",
      "[[ 0.8 47.4]\n",
      " [ 0.8 60.2]]\n",
      "[[ 0.2   37.8  ]\n",
      " [ 0.2   53.415]]\n",
      "[[ 1.2 25.8]\n",
      " [ 1.2 38.6]]\n"
     ]
    }
   ],
   "source": [
    "for e in ax.lines:\n",
    "    xy = e.get_xydata()\n",
    "    if xy[0,0] == xy[1,0]:\n",
    "        print(xy)"
   ]
  },
  {
   "cell_type": "code",
   "execution_count": null,
   "id": "a64e0933",
   "metadata": {},
   "outputs": [],
   "source": []
  }
 ],
 "metadata": {
  "kernelspec": {
   "display_name": "Python 3 (ipykernel)",
   "language": "python",
   "name": "python3"
  },
  "language_info": {
   "codemirror_mode": {
    "name": "ipython",
    "version": 3
   },
   "file_extension": ".py",
   "mimetype": "text/x-python",
   "name": "python",
   "nbconvert_exporter": "python",
   "pygments_lexer": "ipython3",
   "version": "3.10.1"
  }
 },
 "nbformat": 4,
 "nbformat_minor": 5
}
